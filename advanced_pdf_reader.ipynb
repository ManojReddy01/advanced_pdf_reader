{
 "cells": [
  {
   "cell_type": "code",
   "execution_count": 1,
   "id": "2560bf08-e93d-4f5c-8454-fed8139aa0cb",
   "metadata": {},
   "outputs": [
    {
     "name": "stdout",
     "output_type": "stream",
     "text": [
      "Requirement already satisfied: pdfplumber in c:\\users\\91950\\desktop\\sample_project1\\env\\lib\\site-packages (0.11.5)\n",
      "Requirement already satisfied: pdfminer.six==20231228 in c:\\users\\91950\\desktop\\sample_project1\\env\\lib\\site-packages (from pdfplumber) (20231228)\n",
      "Requirement already satisfied: Pillow>=9.1 in c:\\users\\91950\\desktop\\sample_project1\\env\\lib\\site-packages (from pdfplumber) (10.0.1)\n",
      "Requirement already satisfied: pypdfium2>=4.18.0 in c:\\users\\91950\\desktop\\sample_project1\\env\\lib\\site-packages (from pdfplumber) (4.30.1)\n",
      "Requirement already satisfied: charset-normalizer>=2.0.0 in c:\\users\\91950\\desktop\\sample_project1\\env\\lib\\site-packages (from pdfminer.six==20231228->pdfplumber) (2.0.4)\n",
      "Requirement already satisfied: cryptography>=36.0.0 in c:\\users\\91950\\desktop\\sample_project1\\env\\lib\\site-packages (from pdfminer.six==20231228->pdfplumber) (41.0.7)\n",
      "Requirement already satisfied: cffi>=1.12 in c:\\users\\91950\\desktop\\sample_project1\\env\\lib\\site-packages (from cryptography>=36.0.0->pdfminer.six==20231228->pdfplumber) (1.16.0)\n",
      "Requirement already satisfied: pycparser in c:\\users\\91950\\desktop\\sample_project1\\env\\lib\\site-packages (from cffi>=1.12->cryptography>=36.0.0->pdfminer.six==20231228->pdfplumber) (2.21)\n"
     ]
    }
   ],
   "source": [
    "!pip install pdfplumber"
   ]
  },
  {
   "cell_type": "code",
   "execution_count": 2,
   "id": "b9db5ad3-c700-4261-97b6-43eed035c5d4",
   "metadata": {},
   "outputs": [],
   "source": [
    "import pdfplumber"
   ]
  },
  {
   "cell_type": "code",
   "execution_count": 3,
   "id": "758dc0ef-bc10-4f26-be9b-8c49e41aef21",
   "metadata": {},
   "outputs": [
    {
     "name": "stdout",
     "output_type": "stream",
     "text": [
      " MIDDELA MANOJ REDDY\n",
      "+91-9502450181 LinkedIn GitHub manojreddy0456@gmail.com\n",
      "OBJECTIVE\n",
      "Aspirant with strong skills in Python, SQL and Java eager to contribute in forward thinking organization. I aim to\n",
      "apply my technical expertise to develop innovative solutions that drive business insights. Seeking a challenging\n",
      "role where I can gain hands-on experience and make a meaningful impact.\n",
      "EXPERIENCE\n",
      "- Lloyds Technology Centre, Hyderabad DEC/2024 – PRESENT\n",
      "Junior Data Engineer\n",
      "EDUCATION\n",
      "- Vardhaman College Of Engineering OCT/2020 - MAY/2024\n",
      "Bachelor of Technology in Electronics and Communication (ECE). CGPA: 7.35\n",
      "Relevant courses: Python, Data science, DBMS, Machine Learning, ML for CV, SLP, Java.\n",
      "SKILLS\n",
      "- Programming Languages: Python, Java.\n",
      "- Databases and Queries: SQL, MySQL, DAX, Power Query.\n",
      "- Tools: Microsoft Excel, PowerBI, Jupyter Notebook, Git, GitHub.\n",
      "- Libraries: NumPy, Pandas, Matplotlib, Seaborn, Scikit-learn, TensorFlow, Keras.\n",
      "- Soft skills: Ambitious and reliable performer, excellent communication and project management skills.\n",
      "PROJECTS\n",
      "1. Classification of Mango Leaf Disease Using MobileNetV2.\n",
      "- Built a deep learning model (multi class classification) using MobileNetV2 to classify mango leaf diseases Achieved 98.2%\n",
      "accuracy on unseen test data, with 786 correct predictions out of 800.\n",
      "- Selected MobileNetV2 for its lightweight architecture. Applied image preprocessing techniques, including resizing,\n",
      "normalization to enhance model robustness.\n",
      "2. Predictive analysis of customer subscription status.\n",
      "- Analyzed customer behavior and predicted subscription status using Random Forest Classifier with 85% Accuracy with 0.1\n",
      "standard deviation from the accuracy upon experimenting with hyperparameters and Tuning.\n",
      "- Conducted data cleaning and preprocessing, followed by in-depth EDA to identify critical insights and correlations.\n",
      "3. Sentiment Analysis for business insights using Python and NLP.\n",
      "- Engineered a sentiment analysis model leveraging NLP techniques to classify business-related comments.\n",
      "- Enhanced model performance, achieving a 68.8% accuracy with Logistic Regression after implementing data normalization\n",
      "and vectorization.\n",
      "CERTIFICATES AND COURSES\n",
      "• Hackerrank: Python Basic Certificate.\n",
      "• SQL TestDome: SQL Public Test.\n",
      "• Data Science Course: Udemy (75% completed) – Currently enhancing my skills in Data Science and relevant Tools.\n",
      "ACHIEVEMENTS AND CONTRIBUTIONS\n",
      "• Solved more than 350 problems on Leetcode, demonstrating problem-solving and algorithmic skills.\n",
      "• Achieved a 4-star rating in SQL on Hackerrank, indicating a high proficiency and experience in SQL.\n",
      "• Contributed Data science Community with comprehensive Jupyter Notebook on essential statistics for data science.\n"
     ]
    }
   ],
   "source": [
    "def read_pdf(path):\n",
    "    text=\" \"\n",
    "    with pdfplumber.open(path) as pdf:\n",
    "        for pages in pdf.pages:\n",
    "            text+=pages.extract_text()\n",
    "    return text\n",
    "path = r\"C:\\Users\\91950\\Desktop\\MIDDELA MANOJ REDDY - Resume.pdf\"\n",
    "extracted_text=read_pdf(path)\n",
    "print(extracted_text)"
   ]
  }
 ],
 "metadata": {
  "kernelspec": {
   "display_name": "Python 3 (ipykernel)",
   "language": "python",
   "name": "python3"
  },
  "language_info": {
   "codemirror_mode": {
    "name": "ipython",
    "version": 3
   },
   "file_extension": ".py",
   "mimetype": "text/x-python",
   "name": "python",
   "nbconvert_exporter": "python",
   "pygments_lexer": "ipython3",
   "version": "3.9.18"
  }
 },
 "nbformat": 4,
 "nbformat_minor": 5
}
